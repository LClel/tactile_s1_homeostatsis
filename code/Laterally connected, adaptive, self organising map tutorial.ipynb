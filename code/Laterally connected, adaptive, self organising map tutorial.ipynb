{
 "cells": [
  {
   "cell_type": "code",
   "execution_count": null,
   "metadata": {},
   "outputs": [],
   "source": [
    "%load_ext autoreload\n",
    "%autoreload 2\n",
    "import numpy as np\n",
    "import pandas as pd\n",
    "import somatotopy_python as sp\n",
    "import matplotlib.pyplot as plt\n",
    "import scipy\n",
    "import pickle as pk"
   ]
  },
  {
   "cell_type": "markdown",
   "metadata": {},
   "source": [
    "## Set up model"
   ]
  },
  {
   "cell_type": "markdown",
   "metadata": {},
   "source": [
    "### Load inputs"
   ]
  },
  {
   "cell_type": "code",
   "execution_count": null,
   "metadata": {},
   "outputs": [],
   "source": [
    "# Load input set\n",
    "input_responses = np.load('inputs_uniform_tutorial_2.npy')\n",
    "input_responses = input_responses.T"
   ]
  },
  {
   "cell_type": "markdown",
   "metadata": {},
   "source": [
    "### Input arguments"
   ]
  },
  {
   "cell_type": "code",
   "execution_count": null,
   "metadata": {},
   "outputs": [],
   "source": [
    "seed = None\n",
    "sheet_size_a = 30\n",
    "sheet_size_b = sheet_size_a\n",
    "input_num = 1000 #(sheet_size_a*sheet_size_b)*10"
   ]
  },
  {
   "cell_type": "markdown",
   "metadata": {},
   "source": [
    "### Create random seed"
   ]
  },
  {
   "cell_type": "code",
   "execution_count": null,
   "metadata": {},
   "outputs": [],
   "source": [
    "if seed is not None:\n",
    "    np.random.seed(seed)"
   ]
  },
  {
   "cell_type": "markdown",
   "metadata": {},
   "source": [
    "### Set up cortical sheet"
   ]
  },
  {
   "cell_type": "markdown",
   "metadata": {},
   "source": [
    "#### Calculate size of cortical sheet"
   ]
  },
  {
   "cell_type": "code",
   "execution_count": null,
   "metadata": {},
   "outputs": [],
   "source": [
    "cortical_sheet_size = sheet_size_a*sheet_size_b"
   ]
  },
  {
   "cell_type": "markdown",
   "metadata": {},
   "source": [
    "#### Generate 2D sheets"
   ]
  },
  {
   "cell_type": "code",
   "execution_count": null,
   "metadata": {},
   "outputs": [],
   "source": [
    "output_X, output_Y = np.meshgrid(np.linspace(1,sheet_size_a,sheet_size_a),np.linspace(1,sheet_size_b,sheet_size_b))\n",
    "output_X = output_X.flatten()\n",
    "output_Y = output_Y.flatten()"
   ]
  },
  {
   "cell_type": "markdown",
   "metadata": {},
   "source": [
    "### Length of hand_pop location matrix"
   ]
  },
  {
   "cell_type": "code",
   "execution_count": null,
   "metadata": {},
   "outputs": [],
   "source": [
    "# load the sample hand pop (tutorial 1)\n",
    "with open('tutorial_2_hand_pop', 'rb') as f:\n",
    "    hand_pop = pk.load(f)\n",
    "    \n",
    "hand_variable=hand_pop.location\n",
    "    \n",
    "hand_pop_length = len(hand_pop.location)"
   ]
  },
  {
   "cell_type": "markdown",
   "metadata": {},
   "source": [
    "### Generate random weights"
   ]
  },
  {
   "cell_type": "markdown",
   "metadata": {},
   "source": [
    "#### Generate random afferent weights"
   ]
  },
  {
   "cell_type": "code",
   "execution_count": null,
   "metadata": {},
   "outputs": [],
   "source": [
    "# initial random weights\n",
    "affWeights = np.random.rand(cortical_sheet_size, hand_pop_length)\n",
    "\n",
    "# normalise weights\n",
    "affWeights = np.divide(affWeights,sum(affWeights,2))"
   ]
  },
  {
   "cell_type": "markdown",
   "metadata": {},
   "source": [
    "#### Generate random lateral inhibitory and excitatory weights"
   ]
  },
  {
   "cell_type": "code",
   "execution_count": null,
   "metadata": {},
   "outputs": [],
   "source": [
    "excitWeights = np.zeros((cortical_sheet_size,cortical_sheet_size))\n",
    "inhibWeights = np.zeros((cortical_sheet_size,cortical_sheet_size))\n",
    "\n",
    "for i in range(cortical_sheet_size):\n",
    "    \n",
    "    excitWeights[i] = np.random.rand(cortical_sheet_size)\n",
    "    excitWeights[i] = excitWeights[i]/sum(excitWeights[i])\n",
    "    \n",
    "    inhibWeights[i] = np.random.rand(cortical_sheet_size)\n",
    "    inhibWeights[i] = inhibWeights[i]/sum(inhibWeights[i])"
   ]
  },
  {
   "cell_type": "markdown",
   "metadata": {},
   "source": [
    "### Find number of input responses"
   ]
  },
  {
   "cell_type": "code",
   "execution_count": null,
   "metadata": {},
   "outputs": [],
   "source": [
    "number_responses = np.size(input_responses,0);"
   ]
  },
  {
   "cell_type": "markdown",
   "metadata": {},
   "source": [
    "### Generate vector of inputs"
   ]
  },
  {
   "cell_type": "code",
   "execution_count": null,
   "metadata": {},
   "outputs": [],
   "source": [
    "# vector of num_patterns length random integers, selected from number of responses\n",
    "random = np.random.choice(number_responses,input_num)\n",
    "inputs = input_responses[random,:]"
   ]
  },
  {
   "cell_type": "markdown",
   "metadata": {},
   "source": [
    "### Homeostasis parameters"
   ]
  },
  {
   "cell_type": "code",
   "execution_count": null,
   "metadata": {},
   "outputs": [],
   "source": [
    "beta = .991 # smoothing parameter\n",
    "lmbda = .005 # homeostatic learning rate\n",
    "mu = .024 # target activation value\n",
    "initTheta = .01 # initial threshold value"
   ]
  },
  {
   "cell_type": "markdown",
   "metadata": {},
   "source": [
    "#### Initiate dictionary to store threshold and average activation values"
   ]
  },
  {
   "cell_type": "code",
   "execution_count": null,
   "metadata": {},
   "outputs": [],
   "source": [
    "av_act = {}\n",
    "theta = {}\n",
    "\n",
    "for i in range(cortical_sheet_size):\n",
    "    av_act[i] = np.zeros(input_num)\n",
    "    theta[i] = np.zeros(input_num)"
   ]
  },
  {
   "cell_type": "markdown",
   "metadata": {},
   "source": [
    "## Run model"
   ]
  },
  {
   "cell_type": "code",
   "execution_count": null,
   "metadata": {},
   "outputs": [],
   "source": [
    "# present one stimulus response per iteration to train the network\n",
    "for t in range(input_num):\n",
    "    \n",
    "    # calculate response from afferent connections\n",
    "    affContribution = np.dot(affWeights,inputs[t,:].T)\n",
    "        \n",
    "    activation,inner,outer = sp.initial_activations(affContribution = affContribution, excitWeights = excitWeights, inhibWeights = inhibWeights,\n",
    "                                cortical_sheet_size = cortical_sheet_size, output_X=output_X,output_Y=output_Y)\n",
    "    \n",
    "    \n",
    "    activation,theta,av_act = sp.homeostasis(t=t,theta=theta,av_act=av_act,activation=activation)\n",
    "    \n",
    "    affWeights,excitWeights,inhibWeights = sp.update_weights(activation=activation, inner=inner, outer=outer,\n",
    "                                                         affWeights=affWeights,inhibWeights=inhibWeights,\n",
    "                                                         excitWeights=excitWeights,presyn_input=inputs[t,:])"
   ]
  },
  {
   "cell_type": "markdown",
   "metadata": {},
   "source": [
    "## Plot map"
   ]
  },
  {
   "cell_type": "markdown",
   "metadata": {},
   "source": [
    "### Set up plotting variables"
   ]
  },
  {
   "cell_type": "code",
   "execution_count": null,
   "metadata": {},
   "outputs": [],
   "source": [
    "# set up variables to plot the map\n",
    "k = sp.hand_as_generic(hand_pop=hand_pop,color_type='old')\n",
    "\n",
    "key_list = k[0]\n",
    "\n",
    "cmap = k[1]\n",
    "\n",
    "afferent_colors = k[2]\n",
    "\n",
    "grouping_variable = k[3]"
   ]
  },
  {
   "cell_type": "markdown",
   "metadata": {},
   "source": [
    "### Plot standard map"
   ]
  },
  {
   "cell_type": "code",
   "execution_count": null,
   "metadata": {},
   "outputs": [],
   "source": [
    "map_standard = sp.view_map(variable_colors=afferent_colors,w=affWeights.T,color_map=cmap,key_list=key_list,save_name='example_map.png',ss_a=sheet_size_a,ss_b=sheet_size_b)\n",
    "fig = plt.gcf()\n",
    "fig.set_size_inches(18.5, 10.5)"
   ]
  },
  {
   "cell_type": "markdown",
   "metadata": {},
   "source": [
    "### Plot WTA map"
   ]
  },
  {
   "cell_type": "code",
   "execution_count": null,
   "metadata": {},
   "outputs": [],
   "source": [
    "w_wta = sp.wta_weights(w=affWeights.T,gv_index= grouping_variable,group_name=key_list,method='wta_1')\n",
    "\n",
    "w_wta = w_wta[0]\n",
    "\n",
    "# In[plot map]\n",
    "map_wta = sp.view_map(variable_colors=afferent_colors,w=w_wta,color_map=cmap,key_list=key_list,ss_a=sheet_size_a,ss_b=sheet_size_b)\n",
    "fig = plt.gcf()\n",
    "fig.set_size_inches(18.5, 10.5)"
   ]
  },
  {
   "cell_type": "markdown",
   "metadata": {},
   "source": [
    "### Investigation of threshold and average activaiton"
   ]
  },
  {
   "cell_type": "markdown",
   "metadata": {},
   "source": [
    "#### Plot of threshold over time for unit 0"
   ]
  },
  {
   "cell_type": "markdown",
   "metadata": {},
   "source": [
    "##### Currently the threshold is going below zero. \n",
    "I need to think about an appropriate starting value (initTheta),\n",
    "target activation (mu) and learning rate (lambda)\n"
   ]
  },
  {
   "cell_type": "code",
   "execution_count": null,
   "metadata": {},
   "outputs": [],
   "source": [
    "plt.plot(theta[0])\n",
    "plt.xlabel('iteration')\n",
    "plt.ylabel('threshold')"
   ]
  },
  {
   "cell_type": "markdown",
   "metadata": {},
   "source": [
    "#### Plot of average activation over time for unit 0"
   ]
  },
  {
   "cell_type": "code",
   "execution_count": null,
   "metadata": {},
   "outputs": [],
   "source": [
    "plt.plot(av_act[0])\n",
    "plt.xlabel('average activation')\n",
    "plt.ylabel('threshold')"
   ]
  },
  {
   "cell_type": "markdown",
   "metadata": {},
   "source": [
    "#### Plot of threshold against average activation for unit 0"
   ]
  },
  {
   "cell_type": "code",
   "execution_count": null,
   "metadata": {},
   "outputs": [],
   "source": [
    "plt.plot(theta[0],av_act[0])\n",
    "#plt.axhline(y = mu, color='r', label = 'mu') #target activation\n",
    "plt.xlabel('threshold')\n",
    "plt.ylabel('average activation')"
   ]
  },
  {
   "cell_type": "code",
   "execution_count": null,
   "metadata": {},
   "outputs": [],
   "source": []
  }
 ],
 "metadata": {
  "kernelspec": {
   "display_name": "Python 3",
   "language": "python",
   "name": "python3"
  },
  "language_info": {
   "codemirror_mode": {
    "name": "ipython",
    "version": 3
   },
   "file_extension": ".py",
   "mimetype": "text/x-python",
   "name": "python",
   "nbconvert_exporter": "python",
   "pygments_lexer": "ipython3",
   "version": "3.6.10"
  }
 },
 "nbformat": 4,
 "nbformat_minor": 4
}
